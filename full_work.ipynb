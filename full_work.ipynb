{
 "cells": [
  {
   "cell_type": "markdown",
   "metadata": {},
   "source": [
    "## S-Mobile: Predicting Customer Churn-- Questions"
   ]
  },
  {
   "cell_type": "code",
   "execution_count": 1,
   "metadata": {},
   "outputs": [],
   "source": [
    "import matplotlib as mpl\n",
    "import matplotlib.pyplot as plt\n",
    "import numpy as np\n",
    "import pandas as pd\n",
    "import pyrsm as rsm\n",
    "import seaborn as sns\n",
    "import statsmodels.formula.api as smf\n",
    "import xgboost as xgb\n",
    "from sklearn import metrics, preprocessing\n",
    "from sklearn.inspection import permutation_importance, plot_partial_dependence\n",
    "from statsmodels.genmod.families import Binomial\n",
    "from statsmodels.genmod.families.links import logit\n",
    "\n",
    "mpl.rcParams[\"figure.dpi\"] = 150\n",
    "\n",
    "import warnings\n",
    "warnings.filterwarnings(\"ignore\")\n",
    "plt.ioff()\n",
    "\n",
    "# increase plot resolution\n",
    "# mpl.rcParams[\"figure.dpi\"] = 150"
   ]
  },
  {
   "cell_type": "code",
   "execution_count": 2,
   "metadata": {},
   "outputs": [],
   "source": [
    "## load the data - this dataset must NOT be changed\n",
    "s_mobile = pd.read_pickle(\"data/s_mobile.pkl\")\n",
    "s_mobile[\"churn_yes\"] = (s_mobile[\"churn\"] == \"yes\").astype(int)"
   ]
  },
  {
   "cell_type": "markdown",
   "metadata": {},
   "source": [
    "If you want access to the full 5M row dataset, use the dropbox link below.\n",
    "\n",
    "https://www.dropbox.com/s/eli6a1q6qisacci/s_mobile_1M.pkl?dl=1\n",
    "\n",
    "The downside to using the dataset with 1M rows is, of course, that estimation time will increase substantially. I do NOT recommend you use this dataset to select your final model or for tuning hyper parameters. You can, however, use this larger dataset to re-estimate your chosen model and generate profit estimates for the representative sample."
   ]
  },
  {
   "cell_type": "code",
   "execution_count": 3,
   "metadata": {},
   "outputs": [],
   "source": [
    "# show dataset description\n",
    "#rsm.describe(s_mobile)"
   ]
  },
  {
   "cell_type": "markdown",
   "metadata": {},
   "source": [
    "Use `smf.glm` with `freq_weights` and `cov_type` like in the below example\n",
    "    \n",
    "```python\n",
    "lr = smf.glm(\n",
    "    formula=\"churn_yes ~ changer + changem + ...\",\n",
    "    family=Binomial(link=logit()),\n",
    "    data=pentathlon_nptb.query(\"training == 1\"),\n",
    "    freq_weights=s_mobile.loc[mobile.training == 1, \"cweight\"],\n",
    ").fit(cov_type=\"HC1\")\n",
    "```"
   ]
  },
  {
   "cell_type": "markdown",
   "metadata": {},
   "source": [
    "## EDA"
   ]
  },
  {
   "cell_type": "code",
   "execution_count": 4,
   "metadata": {},
   "outputs": [],
   "source": [
    "# explore training set values\n",
    "training_eda = pd.get_dummies(\n",
    "    s_mobile.loc[s_mobile.training == 1, \"changer\":],\n",
    ").agg([\"mean\", \"std\", \"min\", \"max\"]).T"
   ]
  },
  {
   "cell_type": "code",
   "execution_count": 5,
   "metadata": {},
   "outputs": [],
   "source": [
    "# churn in representative model\n",
    "rep_eda = pd.get_dummies(\n",
    "    s_mobile.loc[s_mobile.representative == 1, \"changer\":],\n",
    ").agg([\"mean\", \"std\", \"min\", \"max\"]).T"
   ]
  },
  {
   "cell_type": "code",
   "execution_count": 6,
   "metadata": {},
   "outputs": [
    {
     "data": {
      "text/plain": [
       "no     29400\n",
       "yes      600\n",
       "Name: churn, dtype: int64"
      ]
     },
     "execution_count": 6,
     "metadata": {},
     "output_type": "execute_result"
    }
   ],
   "source": [
    "s_mobile[s_mobile[\"representative\"] == 1].churn.value_counts()"
   ]
  },
  {
   "cell_type": "markdown",
   "metadata": {},
   "source": [
    "In the representative data, since we observe a difference of 294:6 in the churn_yes and churn_no rates, the case weights will be 294:6 (reduced to 49:1)."
   ]
  },
  {
   "cell_type": "code",
   "execution_count": 7,
   "metadata": {},
   "outputs": [],
   "source": [
    "# add case weights\n",
    "class_weight_dict = {0: 49, 1: 1}\n",
    "s_mobile[\"churn_yes\"] = (s_mobile[\"churn\"] == \"yes\").astype(int)\n",
    "s_mobile[\"cweight\"] = rsm.ifelse(\n",
    "    s_mobile.churn == \"yes\", class_weight_dict[1], class_weight_dict[0]\n",
    ")"
   ]
  },
  {
   "cell_type": "code",
   "execution_count": 8,
   "metadata": {},
   "outputs": [],
   "source": [
    "eda_plots = rsm.distr_plot(s_mobile.loc[s_mobile.training == 1, \"changer\":\"occupation\"])"
   ]
  },
  {
   "cell_type": "markdown",
   "metadata": {},
   "source": [
    "## Estimate Logistic Regression"
   ]
  },
  {
   "cell_type": "code",
   "execution_count": 9,
   "metadata": {},
   "outputs": [],
   "source": [
    "idvar = \"customer\"\n",
    "rvar = \"churn_yes\"\n",
    "evar = [\n",
    "    \"refurb\",\n",
    "    \"smartphone\",\n",
    "    \"highcreditr\",\n",
    "    \"mcycle\",\n",
    "    \"car\",\n",
    "    \"travel\",\n",
    "    \"region\",\n",
    "    \"occupation\",\n",
    "    \"changer\",\n",
    "    \"changem\",\n",
    "    \"revenue\",\n",
    "    \"mou\",\n",
    "    \"overage\",\n",
    "    \"roam\",\n",
    "    \"conference\",\n",
    "    \"months\",\n",
    "    \"uniqsubs\",\n",
    "    \"custcare\",\n",
    "    \"retcalls\",\n",
    "    \"dropvce\",\n",
    "    \"eqpdays\",\n",
    "]"
   ]
  },
  {
   "cell_type": "markdown",
   "metadata": {},
   "source": [
    "Logistic regression with case weights, as specified above, but no standardization."
   ]
  },
  {
   "cell_type": "code",
   "execution_count": 10,
   "metadata": {},
   "outputs": [
    {
     "data": {
      "text/html": [
       "<div>\n",
       "<style scoped>\n",
       "    .dataframe tbody tr th:only-of-type {\n",
       "        vertical-align: middle;\n",
       "    }\n",
       "\n",
       "    .dataframe tbody tr th {\n",
       "        vertical-align: top;\n",
       "    }\n",
       "\n",
       "    .dataframe thead th {\n",
       "        text-align: right;\n",
       "    }\n",
       "</style>\n",
       "<table border=\"1\" class=\"dataframe\">\n",
       "  <thead>\n",
       "    <tr style=\"text-align: right;\">\n",
       "      <th></th>\n",
       "      <th>index</th>\n",
       "      <th>OR</th>\n",
       "      <th>OR%</th>\n",
       "      <th>2.5%</th>\n",
       "      <th>97.5%</th>\n",
       "      <th>p.values</th>\n",
       "      <th></th>\n",
       "    </tr>\n",
       "  </thead>\n",
       "  <tbody>\n",
       "    <tr>\n",
       "      <th>1</th>\n",
       "      <td>refurb[T.yes]</td>\n",
       "      <td>1.318</td>\n",
       "      <td>31.8%</td>\n",
       "      <td>1.255</td>\n",
       "      <td>1.385</td>\n",
       "      <td>&lt; .001</td>\n",
       "      <td>***</td>\n",
       "    </tr>\n",
       "    <tr>\n",
       "      <th>2</th>\n",
       "      <td>smartphone[T.yes]</td>\n",
       "      <td>0.913</td>\n",
       "      <td>-8.7%</td>\n",
       "      <td>0.860</td>\n",
       "      <td>0.969</td>\n",
       "      <td>0.003</td>\n",
       "      <td>**</td>\n",
       "    </tr>\n",
       "    <tr>\n",
       "      <th>3</th>\n",
       "      <td>highcreditr[T.yes]</td>\n",
       "      <td>0.483</td>\n",
       "      <td>-51.7%</td>\n",
       "      <td>0.455</td>\n",
       "      <td>0.513</td>\n",
       "      <td>&lt; .001</td>\n",
       "      <td>***</td>\n",
       "    </tr>\n",
       "    <tr>\n",
       "      <th>4</th>\n",
       "      <td>mcycle[T.yes]</td>\n",
       "      <td>0.883</td>\n",
       "      <td>-11.7%</td>\n",
       "      <td>0.834</td>\n",
       "      <td>0.934</td>\n",
       "      <td>&lt; .001</td>\n",
       "      <td>***</td>\n",
       "    </tr>\n",
       "    <tr>\n",
       "      <th>5</th>\n",
       "      <td>car[T.yes]</td>\n",
       "      <td>0.991</td>\n",
       "      <td>-0.9%</td>\n",
       "      <td>0.919</td>\n",
       "      <td>1.068</td>\n",
       "      <td>0.809</td>\n",
       "      <td></td>\n",
       "    </tr>\n",
       "    <tr>\n",
       "      <th>6</th>\n",
       "      <td>travel[T.yes]</td>\n",
       "      <td>0.781</td>\n",
       "      <td>-21.9%</td>\n",
       "      <td>0.723</td>\n",
       "      <td>0.844</td>\n",
       "      <td>&lt; .001</td>\n",
       "      <td>***</td>\n",
       "    </tr>\n",
       "    <tr>\n",
       "      <th>7</th>\n",
       "      <td>region[T.NE]</td>\n",
       "      <td>0.644</td>\n",
       "      <td>-35.6%</td>\n",
       "      <td>0.611</td>\n",
       "      <td>0.678</td>\n",
       "      <td>&lt; .001</td>\n",
       "      <td>***</td>\n",
       "    </tr>\n",
       "    <tr>\n",
       "      <th>8</th>\n",
       "      <td>region[T.NW]</td>\n",
       "      <td>0.660</td>\n",
       "      <td>-34.0%</td>\n",
       "      <td>0.627</td>\n",
       "      <td>0.695</td>\n",
       "      <td>&lt; .001</td>\n",
       "      <td>***</td>\n",
       "    </tr>\n",
       "    <tr>\n",
       "      <th>9</th>\n",
       "      <td>region[T.SE]</td>\n",
       "      <td>0.651</td>\n",
       "      <td>-34.9%</td>\n",
       "      <td>0.618</td>\n",
       "      <td>0.685</td>\n",
       "      <td>&lt; .001</td>\n",
       "      <td>***</td>\n",
       "    </tr>\n",
       "    <tr>\n",
       "      <th>10</th>\n",
       "      <td>region[T.SW]</td>\n",
       "      <td>0.627</td>\n",
       "      <td>-37.3%</td>\n",
       "      <td>0.595</td>\n",
       "      <td>0.660</td>\n",
       "      <td>&lt; .001</td>\n",
       "      <td>***</td>\n",
       "    </tr>\n",
       "    <tr>\n",
       "      <th>11</th>\n",
       "      <td>occupation[T.professional]</td>\n",
       "      <td>1.416</td>\n",
       "      <td>41.6%</td>\n",
       "      <td>1.355</td>\n",
       "      <td>1.479</td>\n",
       "      <td>&lt; .001</td>\n",
       "      <td>***</td>\n",
       "    </tr>\n",
       "    <tr>\n",
       "      <th>12</th>\n",
       "      <td>occupation[T.student]</td>\n",
       "      <td>1.900</td>\n",
       "      <td>90.0%</td>\n",
       "      <td>1.788</td>\n",
       "      <td>2.018</td>\n",
       "      <td>&lt; .001</td>\n",
       "      <td>***</td>\n",
       "    </tr>\n",
       "    <tr>\n",
       "      <th>13</th>\n",
       "      <td>occupation[T.retired]</td>\n",
       "      <td>0.184</td>\n",
       "      <td>-81.6%</td>\n",
       "      <td>0.166</td>\n",
       "      <td>0.205</td>\n",
       "      <td>&lt; .001</td>\n",
       "      <td>***</td>\n",
       "    </tr>\n",
       "    <tr>\n",
       "      <th>14</th>\n",
       "      <td>changer</td>\n",
       "      <td>1.001</td>\n",
       "      <td>0.1%</td>\n",
       "      <td>1.000</td>\n",
       "      <td>1.002</td>\n",
       "      <td>&lt; .001</td>\n",
       "      <td>***</td>\n",
       "    </tr>\n",
       "    <tr>\n",
       "      <th>15</th>\n",
       "      <td>changem</td>\n",
       "      <td>0.999</td>\n",
       "      <td>-0.1%</td>\n",
       "      <td>0.998</td>\n",
       "      <td>0.999</td>\n",
       "      <td>&lt; .001</td>\n",
       "      <td>***</td>\n",
       "    </tr>\n",
       "    <tr>\n",
       "      <th>16</th>\n",
       "      <td>revenue</td>\n",
       "      <td>0.999</td>\n",
       "      <td>-0.1%</td>\n",
       "      <td>0.999</td>\n",
       "      <td>1.000</td>\n",
       "      <td>0.134</td>\n",
       "      <td></td>\n",
       "    </tr>\n",
       "    <tr>\n",
       "      <th>17</th>\n",
       "      <td>mou</td>\n",
       "      <td>1.000</td>\n",
       "      <td>-0.0%</td>\n",
       "      <td>1.000</td>\n",
       "      <td>1.000</td>\n",
       "      <td>&lt; .001</td>\n",
       "      <td>***</td>\n",
       "    </tr>\n",
       "    <tr>\n",
       "      <th>18</th>\n",
       "      <td>overage</td>\n",
       "      <td>1.004</td>\n",
       "      <td>0.4%</td>\n",
       "      <td>1.004</td>\n",
       "      <td>1.005</td>\n",
       "      <td>&lt; .001</td>\n",
       "      <td>***</td>\n",
       "    </tr>\n",
       "    <tr>\n",
       "      <th>19</th>\n",
       "      <td>roam</td>\n",
       "      <td>1.008</td>\n",
       "      <td>0.8%</td>\n",
       "      <td>1.006</td>\n",
       "      <td>1.010</td>\n",
       "      <td>&lt; .001</td>\n",
       "      <td>***</td>\n",
       "    </tr>\n",
       "    <tr>\n",
       "      <th>20</th>\n",
       "      <td>conference</td>\n",
       "      <td>0.984</td>\n",
       "      <td>-1.6%</td>\n",
       "      <td>0.961</td>\n",
       "      <td>1.007</td>\n",
       "      <td>0.163</td>\n",
       "      <td></td>\n",
       "    </tr>\n",
       "    <tr>\n",
       "      <th>21</th>\n",
       "      <td>months</td>\n",
       "      <td>0.982</td>\n",
       "      <td>-1.8%</td>\n",
       "      <td>0.980</td>\n",
       "      <td>0.985</td>\n",
       "      <td>&lt; .001</td>\n",
       "      <td>***</td>\n",
       "    </tr>\n",
       "    <tr>\n",
       "      <th>22</th>\n",
       "      <td>uniqsubs</td>\n",
       "      <td>1.037</td>\n",
       "      <td>3.7%</td>\n",
       "      <td>1.018</td>\n",
       "      <td>1.057</td>\n",
       "      <td>&lt; .001</td>\n",
       "      <td>***</td>\n",
       "    </tr>\n",
       "    <tr>\n",
       "      <th>23</th>\n",
       "      <td>custcare</td>\n",
       "      <td>0.997</td>\n",
       "      <td>-0.3%</td>\n",
       "      <td>0.992</td>\n",
       "      <td>1.002</td>\n",
       "      <td>0.259</td>\n",
       "      <td></td>\n",
       "    </tr>\n",
       "    <tr>\n",
       "      <th>24</th>\n",
       "      <td>retcalls</td>\n",
       "      <td>1.805</td>\n",
       "      <td>80.5%</td>\n",
       "      <td>1.695</td>\n",
       "      <td>1.923</td>\n",
       "      <td>&lt; .001</td>\n",
       "      <td>***</td>\n",
       "    </tr>\n",
       "    <tr>\n",
       "      <th>25</th>\n",
       "      <td>dropvce</td>\n",
       "      <td>1.014</td>\n",
       "      <td>1.4%</td>\n",
       "      <td>1.009</td>\n",
       "      <td>1.019</td>\n",
       "      <td>&lt; .001</td>\n",
       "      <td>***</td>\n",
       "    </tr>\n",
       "    <tr>\n",
       "      <th>26</th>\n",
       "      <td>eqpdays</td>\n",
       "      <td>1.001</td>\n",
       "      <td>0.1%</td>\n",
       "      <td>1.001</td>\n",
       "      <td>1.001</td>\n",
       "      <td>&lt; .001</td>\n",
       "      <td>***</td>\n",
       "    </tr>\n",
       "  </tbody>\n",
       "</table>\n",
       "</div>"
      ],
      "text/plain": [
       "                         index     OR     OR%   2.5%  97.5% p.values     \n",
       "1                refurb[T.yes]  1.318   31.8%  1.255  1.385   < .001  ***\n",
       "2            smartphone[T.yes]  0.913   -8.7%  0.860  0.969    0.003   **\n",
       "3           highcreditr[T.yes]  0.483  -51.7%  0.455  0.513   < .001  ***\n",
       "4                mcycle[T.yes]  0.883  -11.7%  0.834  0.934   < .001  ***\n",
       "5                   car[T.yes]  0.991   -0.9%  0.919  1.068    0.809     \n",
       "6                travel[T.yes]  0.781  -21.9%  0.723  0.844   < .001  ***\n",
       "7                 region[T.NE]  0.644  -35.6%  0.611  0.678   < .001  ***\n",
       "8                 region[T.NW]  0.660  -34.0%  0.627  0.695   < .001  ***\n",
       "9                 region[T.SE]  0.651  -34.9%  0.618  0.685   < .001  ***\n",
       "10                region[T.SW]  0.627  -37.3%  0.595  0.660   < .001  ***\n",
       "11  occupation[T.professional]  1.416   41.6%  1.355  1.479   < .001  ***\n",
       "12       occupation[T.student]  1.900   90.0%  1.788  2.018   < .001  ***\n",
       "13       occupation[T.retired]  0.184  -81.6%  0.166  0.205   < .001  ***\n",
       "14                     changer  1.001    0.1%  1.000  1.002   < .001  ***\n",
       "15                     changem  0.999   -0.1%  0.998  0.999   < .001  ***\n",
       "16                     revenue  0.999   -0.1%  0.999  1.000    0.134     \n",
       "17                         mou  1.000   -0.0%  1.000  1.000   < .001  ***\n",
       "18                     overage  1.004    0.4%  1.004  1.005   < .001  ***\n",
       "19                        roam  1.008    0.8%  1.006  1.010   < .001  ***\n",
       "20                  conference  0.984   -1.6%  0.961  1.007    0.163     \n",
       "21                      months  0.982   -1.8%  0.980  0.985   < .001  ***\n",
       "22                    uniqsubs  1.037    3.7%  1.018  1.057   < .001  ***\n",
       "23                    custcare  0.997   -0.3%  0.992  1.002    0.259     \n",
       "24                    retcalls  1.805   80.5%  1.695  1.923   < .001  ***\n",
       "25                     dropvce  1.014    1.4%  1.009  1.019   < .001  ***\n",
       "26                     eqpdays  1.001    0.1%  1.001  1.001   < .001  ***"
      ]
     },
     "execution_count": 10,
     "metadata": {},
     "output_type": "execute_result"
    }
   ],
   "source": [
    "form = \"churn_yes ~ \" + \" + \".join(evar)\n",
    "lr_mod = smf.glm(\n",
    "    formula=form,\n",
    "    family=Binomial(link=logit()),\n",
    "    freq_weights=s_mobile.loc[s_mobile.training == 1, \"cweight\"],\n",
    "    data=s_mobile[s_mobile.training == 1],\n",
    ")\n",
    "lr = lr_mod.fit(cov_type=\"HC1\")\n",
    "rsm.or_ci(lr)"
   ]
  },
  {
   "cell_type": "code",
   "execution_count": 11,
   "metadata": {},
   "outputs": [],
   "source": [
    "or_un = rsm.or_plot(lr)\n",
    "or_un = or_un.set_xlabel(\"Odds-ratio (un-standardized)\")"
   ]
  },
  {
   "cell_type": "markdown",
   "metadata": {},
   "source": [
    "#### Logistic Regression model with case weights and standardization"
   ]
  },
  {
   "cell_type": "code",
   "execution_count": 12,
   "metadata": {},
   "outputs": [],
   "source": [
    "Xs = rsm.scale_df(\n",
    "    s_mobile.loc[:, \"changer\":\"occupation\"],\n",
    "    wt=s_mobile.cweight,\n",
    "    train=s_mobile.training == 1,\n",
    ")\n",
    "Xs[\"churn_yes\"] = s_mobile.churn_yes\n",
    "# Xs"
   ]
  },
  {
   "cell_type": "code",
   "execution_count": 13,
   "metadata": {},
   "outputs": [],
   "source": [
    "lr_std = smf.glm(\n",
    "    formula=form,\n",
    "    family=Binomial(link=logit()),\n",
    "    freq_weights=s_mobile.loc[s_mobile.training == 1, \"cweight\"],\n",
    "    data=Xs[s_mobile.training == 1],\n",
    ").fit(cov_type=\"HC1\")"
   ]
  },
  {
   "cell_type": "code",
   "execution_count": 14,
   "metadata": {},
   "outputs": [],
   "source": [
    "importances = (\n",
    "    rsm.or_ci(lr_std, importance=True, data=s_mobile[s_mobile.training == 1])\n",
    "    .sort_values(\"importance\", ascending=False)\n",
    "    .reset_index(drop=True)\n",
    ")"
   ]
  },
  {
   "cell_type": "markdown",
   "metadata": {},
   "source": [
    "`roam`, `uniqsubs` and `changer` have OR of exactly 1."
   ]
  },
  {
   "cell_type": "code",
   "execution_count": 15,
   "metadata": {},
   "outputs": [],
   "source": [
    "# plot size\n",
    "or_std = rsm.or_plot(lr_std, figsize=(6, 6))\n",
    "or_std = or_std.set_xlabel(\"Odds-ratio (standardized)\")\n",
    "\n",
    "# fig = rsm.or_plot(lr_std)\n",
    "# fig = fig.set_xlabel(\"Odds-ratio (standardized)\")"
   ]
  },
  {
   "cell_type": "markdown",
   "metadata": {},
   "source": [
    "Changes to see a flipped-OR plot"
   ]
  },
  {
   "cell_type": "code",
   "execution_count": 16,
   "metadata": {},
   "outputs": [],
   "source": [
    "# flipping the OR plot: this flipping is optional and we probably should not use it since it is difficutlt to interpret 1/2 flipped and the other 1/2 as is\n",
    "# s_mobile_flipped = Xs.copy()\n",
    "# s_mobile_flipped[\"changem\"] = -s_mobile_flipped.changem\n",
    "# s_mobile_flipped[\"revenue\"] = -s_mobile_flipped.revenue\n",
    "# s_mobile_flipped[\"months\"] = -s_mobile_flipped.months\n",
    "# s_mobile_flipped[\"mou\"] = -s_mobile_flipped.mou\n",
    "# s_mobile_flipped[\"conference\"] = -s_mobile_flipped.conference\n",
    "# s_mobile_flipped[\"custcare\"] = -s_mobile_flipped.custcare\n",
    "\n",
    "# s_mobile_flipped[\"smartphone\"] = rsm.ifelse(s_mobile_flipped.smartphone == \"yes\", \"no\", \"yes\")\n",
    "# s_mobile_flipped[\"highcreditr\"] = rsm.ifelse(s_mobile_flipped.highcreditr == \"yes\", \"no\", \"yes\")\n",
    "# s_mobile_flipped[\"mcycle\"] = rsm.ifelse(s_mobile_flipped.mcycle == \"yes\", \"no\", \"yes\")\n",
    "# s_mobile_flipped[\"travel\"] = rsm.ifelse(s_mobile_flipped.travel == \"yes\", \"no\", \"yes\")\n",
    "# s_mobile_flipped[\"car\"] = rsm.ifelse(s_mobile_flipped.car == \"yes\", \"no\", \"yes\")\n",
    "\n",
    "# lr_flip = smf.glm(\n",
    "#     formula=form,\n",
    "#     family=Binomial(link=logit()),\n",
    "#     freq_weights=s_mobile.loc[s_mobile.training == 1, \"cweight\"],\n",
    "#     data=s_mobile_flipped[s_mobile.training == 1],\n",
    "# ).fit(cov_type=\"HC1\")\n",
    "# # lr.summary()\n",
    "# fig = rsm.or_plot(lr_flip)\n",
    "# fig = fig.set_xlabel(\"Odds-ratio (standardized)\")"
   ]
  },
  {
   "cell_type": "code",
   "execution_count": 17,
   "metadata": {},
   "outputs": [],
   "source": [
    "wald_table = lr_std.wald_test_terms().table.round(3)"
   ]
  },
  {
   "cell_type": "markdown",
   "metadata": {},
   "source": [
    "## Alternative model: XGBoost"
   ]
  },
  {
   "cell_type": "code",
   "execution_count": 18,
   "metadata": {},
   "outputs": [],
   "source": [
    "X = pd.get_dummies(s_mobile.loc[:, \"changer\":\"occupation\"], drop_first=True)\n",
    "y = s_mobile.churn_yes"
   ]
  },
  {
   "cell_type": "code",
   "execution_count": 19,
   "metadata": {},
   "outputs": [],
   "source": [
    "clf = xgb.XGBClassifier(\n",
    "    max_depth=2,\n",
    "    n_estimators=100,\n",
    "    objective=\"binary:logistic\",\n",
    "    use_label_encoder=False,\n",
    "    scale_pos_weight=1 / 49,\n",
    "    eval_metric=\"auc\",\n",
    "    random_state=1234,\n",
    ").fit(X[s_mobile.training == 1], y[s_mobile.training == 1], verbose=True)"
   ]
  },
  {
   "cell_type": "code",
   "execution_count": 20,
   "metadata": {},
   "outputs": [],
   "source": [
    "from sklearn.model_selection import GridSearchCV\n",
    "param_grid = {\n",
    "\"n_estimators\": [50, 100, 150],\n",
    "\"scale_pos_weight\":[1/49],\n",
    "'use_label_encoder':[False],\n",
    "\"max_depth\": [2,4],\n",
    "'random_state':[1234],\n",
    "}\n",
    "scoring = {\"AUC\": \"roc_auc\"}\n",
    "# clf_cv = GridSearchCV(\n",
    "# clf, param_grid, scoring=scoring, cv=5, n_jobs=4, refit=\"AUC\", verbose=True\n",
    "# ).fit(X[s_mobile.training == 1], y[s_mobile.training == 1])"
   ]
  },
  {
   "cell_type": "code",
   "execution_count": 21,
   "metadata": {},
   "outputs": [],
   "source": [
    "act_pred = (600 / 29400)\n",
    "lr_pred = (lr.predict(s_mobile[s_mobile.representative == 1]).mean().round(5))\n",
    "clf_pred = (clf.predict_proba(X[s_mobile.representative == 1])[:, 1].mean().round(5))\n",
    "#cv_pred = (clf_cv.predict_proba(X[s_mobile.representative == 1])[:, 1].mean().round(5))"
   ]
  },
  {
   "cell_type": "code",
   "execution_count": 22,
   "metadata": {},
   "outputs": [],
   "source": [
    "preds = [act_pred, lr_pred, clf_pred]#, cv_pred]"
   ]
  },
  {
   "cell_type": "markdown",
   "metadata": {},
   "source": [
    "The two values above are close enough for us to conclude that predicted probabilities in the representative dataset are scaled appropriately"
   ]
  },
  {
   "cell_type": "code",
   "execution_count": 23,
   "metadata": {},
   "outputs": [],
   "source": [
    "def importance(clf, X, y, cn):\n",
    "    imp = permutation_importance(\n",
    "        clf, X, y, scoring=\"roc_auc\", n_repeats=10, random_state=1234\n",
    "    )\n",
    "    data = pd.DataFrame(imp.importances.T)\n",
    "    data.columns = cn\n",
    "    order = data.agg(\"mean\").sort_values(ascending=False).index\n",
    "    fig = sns.barplot(\n",
    "        x=\"value\", y=\"variable\", color=\"slateblue\", data=pd.melt(data[order])\n",
    "    )\n",
    "    fig.set(title=\"Permutation Importances\", xlabel=None, ylabel=None)\n",
    "    return fig"
   ]
  },
  {
   "cell_type": "code",
   "execution_count": 24,
   "metadata": {},
   "outputs": [],
   "source": [
    "clf_imp = importance(clf, X[s_mobile.training == 1], y[s_mobile.training == 1], X.columns)\n",
    "#cv_imp = importance(clf_cv, X[s_mobile.training == 1], y[s_mobile.training == 1], X.columns)"
   ]
  },
  {
   "cell_type": "code",
   "execution_count": 25,
   "metadata": {},
   "outputs": [],
   "source": [
    "fig, ax = plt.subplots(figsize=(6, 3))\n",
    "features=[4,12]\n",
    "ax.set_title(\"Partial Dependence Plots\")\n",
    "fig = plot_partial_dependence(\n",
    "    clf,\n",
    "    X[s_mobile.training == 1], features,\n",
    "    ax=ax,\n",
    ")"
   ]
  },
  {
   "cell_type": "markdown",
   "metadata": {},
   "source": [
    "Adding nonlinear terms in XGBoost is not needed probably"
   ]
  },
  {
   "cell_type": "markdown",
   "metadata": {},
   "source": [
    "### Alternate Model: Tuned Logistic Regression for Non-Linearity"
   ]
  },
  {
   "cell_type": "code",
   "execution_count": 26,
   "metadata": {},
   "outputs": [],
   "source": [
    "Xs['ov_2'] = Xs['overage'] ** 2\n",
    "Xs['ov_cubed'] = Xs['overage'] * Xs['overage'] * Xs['overage']\n",
    "\n",
    "s_mobile['ov_cubed'] = s_mobile['overage'] * s_mobile['overage'] * s_mobile['overage']\n",
    "\n",
    "form_tune = 'churn_yes ~ refurb + smartphone + highcreditr + mcycle + car + travel + region + occupation + changer + changem\\\n",
    "+ revenue + mou + overage + roam + conference + months + uniqsubs + custcare + retcalls + dropvce + eqpdays + ov_2 + ov_cubed'\n",
    "\n",
    "\n",
    "# lr_tune_mod = smf.glm(\n",
    "#     formula=form_tune,\n",
    "#     family=Binomial(link=logit()),\n",
    "#     freq_weights=s_mobile.loc[s_mobile.training == 1, \"cweight\"],\n",
    "#     data=s_mobile[s_mobile.training == 1],\n",
    "# )\n",
    "# lr_tune = lr_tune_mod.fit(cov_type=\"HC1\")\n",
    "\n",
    "lr_tune_std = smf.glm(\n",
    "    formula=form_tune,\n",
    "    family=Binomial(link=logit()),\n",
    "    freq_weights=s_mobile.loc[s_mobile.training == 1, \"cweight\"],\n",
    "    data=Xs[s_mobile.training == 1],\n",
    ").fit(cov_type=\"HC1\")\n",
    "#rsm.or_ci(lr_tune)\n",
    "\n",
    "importances_alt = (\n",
    "    rsm.or_ci(lr_tune_std, importance=True, data=Xs[s_mobile.training == 1])\n",
    "    .sort_values(\"importance\", ascending=False)\n",
    "    .reset_index(drop=True)\n",
    ")"
   ]
  },
  {
   "cell_type": "code",
   "execution_count": 27,
   "metadata": {},
   "outputs": [],
   "source": [
    "# x = importances['OR']\n",
    "# y = importances_tuned['OR']\n",
    "\n",
    "# combined = pd.DataFrame([x,y])\n",
    "# combined"
   ]
  },
  {
   "cell_type": "code",
   "execution_count": 28,
   "metadata": {},
   "outputs": [],
   "source": [
    "# x1 = importances['importance']\n",
    "# x2 = importances_tuned['importance']\n",
    "\n",
    "# imp = pd.DataFrame([x1,x2])\n",
    "# imp"
   ]
  },
  {
   "cell_type": "code",
   "execution_count": 29,
   "metadata": {},
   "outputs": [],
   "source": [
    "# lr = smf.glm(\n",
    "#     formula=form,\n",
    "#     family=Binomial(link=logit()),\n",
    "#     freq_weights=s_mobile.loc[s_mobile.training == 1, \"cweight\"],\n",
    "#     data=Xs[s_mobile.training == 1],\n",
    "# )\n",
    "\n",
    "# rsm.vif(lr)"
   ]
  },
  {
   "cell_type": "markdown",
   "metadata": {},
   "source": [
    "### Actions/Offers/Incentives"
   ]
  },
  {
   "cell_type": "markdown",
   "metadata": {},
   "source": [
    "Assumption: overage leads to overage fee for the customers"
   ]
  },
  {
   "cell_type": "code",
   "execution_count": 30,
   "metadata": {},
   "outputs": [],
   "source": [
    "s_mobile_un = s_mobile.query(\"representative == 1\").copy()\n",
    "perc = s_mobile_un[s_mobile_un.overage < 100]['overage'].sum()/s_mobile_un[s_mobile_un.overage < 100]['mou'].sum()\n",
    "\n",
    "s_mobile_un['og_rev'] = s_mobile_un['revenue'].copy()\n",
    "s_mobile_un['revenue'] = s_mobile_un['revenue'] * (1-perc)"
   ]
  },
  {
   "cell_type": "markdown",
   "metadata": {},
   "source": [
    "### CLV Calculations Function"
   ]
  },
  {
   "cell_type": "code",
   "execution_count": 31,
   "metadata": {},
   "outputs": [],
   "source": [
    "def clv(revenue,hike,ser_mar_cost,n_months,churn): \n",
    "    d1 = {\n",
    "    \"Offer CLV\": [\n",
    "        \"Revenue\",\n",
    "        \"Service & Marketing cost\",\n",
    "        \"Customer Profit\",\n",
    "        \"Churn rate\",\n",
    "        \"Prob.of being active at end of period\",\n",
    "        \"Profit expected on average\",\n",
    "        \"Discount\",\n",
    "        \"Present value of expected profits\",\n",
    "        \"CLV\",\n",
    "    ],\n",
    "    \"Today\": [0] * 9,\n",
    "    }\n",
    "    d2 = [\"Month %i\" % i for i in range(1, n_months+1)]\n",
    "    df1 = pd.DataFrame(data=d1)\n",
    "    df2 = pd.DataFrame(0, index=np.arange(9), columns=d2)\n",
    "    apc = pd.concat([df1, df2], axis=1).set_index(\"Offer CLV\")\n",
    "\n",
    "    # Revenue\n",
    "    apc.loc[\"Revenue\"] = apc.loc[\"Revenue\"].astype(float)\n",
    "    apc.loc[\"Revenue\"][\"Month 1\":\"Month 12\"] = revenue\n",
    "    for i in range(13, n_months+1):\n",
    "        p = \"Month %i\" % i\n",
    "        q = \"Month %i\" % (i - 12)\n",
    "        apc.loc[\"Revenue\"][p] = apc.loc[\"Revenue\"][q] * (hike+1)\n",
    "\n",
    "    # Service cost\n",
    "    apc.loc[\"Service & Marketing cost\"] = apc.loc[\"Revenue\"] * ser_mar_cost\n",
    "\n",
    "    # Customer Profit\n",
    "    apc.loc[\"Customer Profit\"] = (apc.loc[\"Revenue\"] - apc.loc[\"Service & Marketing cost\"])\n",
    "\n",
    "    # Churn\n",
    "#     nc = [churn]*int((n_months/12))\n",
    "    apc.loc[\"Churn rate\"][\"Today\"] = 1\n",
    "    apc.loc[\"Churn rate\"] = churn\n",
    "\n",
    "#     for i in range(1, len(nc)):\n",
    "#         j = 1 + i * 12\n",
    "#         p = \"Month %i\" % j\n",
    "#         apc.loc[\"Churn rate\"][p] = nc[i]\n",
    "\n",
    "    # Prob of being active at the end of the period\n",
    "    apc.loc[\"Prob.of being active at end of period\"][\"Today\"] = 1\n",
    "    apc.loc[\"Prob.of being active at end of period\"][\"Month 1\"] = apc.loc[\"Prob.of being active at end of period\"][\"Today\"] * (1 - apc.loc[\"Churn rate\"][\"Month 1\"])\n",
    "    for i in range(3, (n_months+2)):\n",
    "        p = \"Month %i\" % (i - 1)\n",
    "        q = \"Month %i\" % (i - 2)\n",
    "        apc.loc[\"Prob.of being active at end of period\"][p] = apc.loc[\"Prob.of being active at end of period\"][q] * (1 - apc.loc[\"Churn rate\"][p])\n",
    "\n",
    "    # Profit expected on average\n",
    "    apc.loc[\"Profit expected on average\"] = (apc.loc[\"Customer Profit\"] * apc.loc[\"Prob.of being active at end of period\"])\n",
    "\n",
    "    # Discount\n",
    "    apc.loc[\"Discount\"] = list(range(0, (n_months+1)))\n",
    "    apc.loc[\"Present value of expected profits\"] = (apc.loc[\"Profit expected on average\"] / (1.00797414) ** apc.loc[\"Discount\"])\n",
    "    apc.loc[\"CLV\"][\"Month 1\"] = apc.loc[\"Present value of expected profits\"][\"Month 1\"]\n",
    "    for i in range(3, (n_months+2)):\n",
    "        p = \"Month %i\" % (i - 1)\n",
    "        q = \"Month %i\" % (i - 2)\n",
    "        apc.loc[\"CLV\"][p] = (apc.loc[\"CLV\"][q] + apc.loc[\"Present value of expected profits\"][p])\n",
    "    CLV_apc = apc.round(decimals=3)\n",
    "    return CLV_apc"
   ]
  },
  {
   "cell_type": "markdown",
   "metadata": {},
   "source": [
    "### Plan 1: subsidize overage costs\n",
    "\n",
    "For customers that have overage less than 100 mins, their overage fee is subsidized by the company.\n",
    "For customers that have overage greater than 100 mins, their overage is subsidized by 100 mins (at 1/2 the overage rate = 5 cents), and the remaining overage is charged the same (10cents)."
   ]
  },
  {
   "cell_type": "code",
   "execution_count": 32,
   "metadata": {},
   "outputs": [],
   "source": [
    "s_mobile_un[\"p_og\"] = lr.predict(s_mobile_un)"
   ]
  },
  {
   "cell_type": "code",
   "execution_count": 33,
   "metadata": {},
   "outputs": [
    {
     "data": {
      "text/html": [
       "<div>\n",
       "<style scoped>\n",
       "    .dataframe tbody tr th:only-of-type {\n",
       "        vertical-align: middle;\n",
       "    }\n",
       "\n",
       "    .dataframe tbody tr th {\n",
       "        vertical-align: top;\n",
       "    }\n",
       "\n",
       "    .dataframe thead th {\n",
       "        text-align: right;\n",
       "    }\n",
       "</style>\n",
       "<table border=\"1\" class=\"dataframe\">\n",
       "  <thead>\n",
       "    <tr style=\"text-align: right;\">\n",
       "      <th></th>\n",
       "      <th>churn_yes</th>\n",
       "      <th>p_overage1_2</th>\n",
       "    </tr>\n",
       "  </thead>\n",
       "  <tbody>\n",
       "    <tr>\n",
       "      <th>count</th>\n",
       "      <td>5787.0000</td>\n",
       "      <td>5787.0000</td>\n",
       "    </tr>\n",
       "    <tr>\n",
       "      <th>mean</th>\n",
       "      <td>0.0299</td>\n",
       "      <td>0.0156</td>\n",
       "    </tr>\n",
       "  </tbody>\n",
       "</table>\n",
       "</div>"
      ],
      "text/plain": [
       "       churn_yes  p_overage1_2\n",
       "count  5787.0000     5787.0000\n",
       "mean      0.0299        0.0156"
      ]
     },
     "execution_count": 33,
     "metadata": {},
     "output_type": "execute_result"
    }
   ],
   "source": [
    "#plan: for customers that don't cross 100 mins in overage, their overage is free\n",
    "s_mobile_un[\"p_overage1_2\"] = lr.predict(s_mobile_un[(s_mobile_un.overage <100)].assign(overage = 0))\n",
    "\n",
    "s_mobile_un[(s_mobile_un.overage < 100)].loc[s_mobile_un.overage > 0, [\"churn_yes\", \"p_overage1_2\"]].agg(\n",
    "    [\"count\", \"mean\"]\n",
    ").round(4)"
   ]
  },
  {
   "cell_type": "code",
   "execution_count": 34,
   "metadata": {},
   "outputs": [],
   "source": [
    "cost = (s_mobile_un[(s_mobile_un.overage <100)]['overage'].sum() * 0.1)/5787\n",
    "\n",
    "og_sub_rev = s_mobile_un[(s_mobile_un.overage <100)].og_rev.mean()\n",
    "sub_rev = og_sub_rev - cost \n",
    "#cost_perc_1 = cost/sub_rev\n",
    "\n",
    "p1_b = (clv(og_sub_rev,0,0,60,0.0299)[-1:]['Month 60']) #before\n",
    "p1_a = (clv(sub_rev,0,0,60,0.0156)[-1:]['Month 60']) #after"
   ]
  },
  {
   "cell_type": "code",
   "execution_count": 35,
   "metadata": {},
   "outputs": [
    {
     "data": {
      "text/plain": [
       "Offer CLV\n",
       "CLV    177.263\n",
       "Name: Month 60, dtype: float64"
      ]
     },
     "execution_count": 35,
     "metadata": {},
     "output_type": "execute_result"
    }
   ],
   "source": [
    "p1_a - p1_b"
   ]
  },
  {
   "cell_type": "markdown",
   "metadata": {},
   "source": [
    "#### Plan 1: part 2"
   ]
  },
  {
   "cell_type": "code",
   "execution_count": 36,
   "metadata": {},
   "outputs": [],
   "source": [
    "s_what = s_mobile_un.copy()\n",
    "s_what['overage'] = s_what['overage'] - 100\n",
    "#s_what.overage = s_what.overage.clip(0,165)\n",
    "#s_what[s_what.overage > 100].overage.value_counts()"
   ]
  },
  {
   "cell_type": "code",
   "execution_count": 37,
   "metadata": {},
   "outputs": [
    {
     "data": {
      "text/html": [
       "<div>\n",
       "<style scoped>\n",
       "    .dataframe tbody tr th:only-of-type {\n",
       "        vertical-align: middle;\n",
       "    }\n",
       "\n",
       "    .dataframe tbody tr th {\n",
       "        vertical-align: top;\n",
       "    }\n",
       "\n",
       "    .dataframe thead th {\n",
       "        text-align: right;\n",
       "    }\n",
       "</style>\n",
       "<table border=\"1\" class=\"dataframe\">\n",
       "  <thead>\n",
       "    <tr style=\"text-align: right;\">\n",
       "      <th></th>\n",
       "      <th>churn_yes</th>\n",
       "      <th>p_overage1_2n</th>\n",
       "    </tr>\n",
       "  </thead>\n",
       "  <tbody>\n",
       "    <tr>\n",
       "      <th>count</th>\n",
       "      <td>10335.0000</td>\n",
       "      <td>10335.0000</td>\n",
       "    </tr>\n",
       "    <tr>\n",
       "      <th>mean</th>\n",
       "      <td>0.0215</td>\n",
       "      <td>0.0155</td>\n",
       "    </tr>\n",
       "  </tbody>\n",
       "</table>\n",
       "</div>"
      ],
      "text/plain": [
       "        churn_yes  p_overage1_2n\n",
       "count  10335.0000     10335.0000\n",
       "mean       0.0215         0.0155"
      ]
     },
     "execution_count": 37,
     "metadata": {},
     "output_type": "execute_result"
    }
   ],
   "source": [
    "s_what[\"p_overage1_2n\"] = lr.predict(s_what[(s_mobile_un.overage >100)])\n",
    "\n",
    "s_what[(s_mobile_un.overage > 100)].loc[s_mobile_un.overage > 0, [\"churn_yes\", \"p_overage1_2n\"]].agg(\n",
    "    [\"count\", \"mean\"]\n",
    ").round(4)"
   ]
  },
  {
   "cell_type": "code",
   "execution_count": 38,
   "metadata": {},
   "outputs": [
    {
     "data": {
      "text/plain": [
       "Offer CLV\n",
       "CLV    296.394\n",
       "Name: Month 60, dtype: float64"
      ]
     },
     "execution_count": 38,
     "metadata": {},
     "output_type": "execute_result"
    }
   ],
   "source": [
    "sub_rev_3= s_what[s_mobile_un.overage>100].revenue.mean()\n",
    "og_rev_3= s_what[s_mobile_un.overage>100].og_rev.mean()\n",
    "\n",
    "cost_3 = 100 * 0.05\n",
    "cost_perc_3 = cost_3 /sub_rev_3\n",
    "\n",
    "p1b_b = (clv(og_rev_3,0,0.1,60,0.0215)[-1:]['Month 60']) #before\n",
    "p1b_a =(clv(sub_rev_3,0,cost_perc_3,60,0.0155)[-1:]['Month 60']) #after\n",
    "\n",
    "p1b_a - p1b_b"
   ]
  },
  {
   "cell_type": "markdown",
   "metadata": {},
   "source": [
    "### PLAN 2"
   ]
  },
  {
   "cell_type": "code",
   "execution_count": 39,
   "metadata": {},
   "outputs": [],
   "source": [
    "s_mobile_2 = s_mobile_un.copy()\n",
    "s_mobile_2['ovs'] = np.where(s_mobile_2.mou != 0, s_mobile_2['overage'] / s_mobile_2['mou'], s_mobile_2.overage) #accounting for customers who have 0 mou and overage\n",
    "#test.ovs.max()"
   ]
  },
  {
   "cell_type": "code",
   "execution_count": 40,
   "metadata": {},
   "outputs": [
    {
     "data": {
      "text/html": [
       "<div>\n",
       "<style scoped>\n",
       "    .dataframe tbody tr th:only-of-type {\n",
       "        vertical-align: middle;\n",
       "    }\n",
       "\n",
       "    .dataframe tbody tr th {\n",
       "        vertical-align: top;\n",
       "    }\n",
       "\n",
       "    .dataframe thead th {\n",
       "        text-align: right;\n",
       "    }\n",
       "</style>\n",
       "<table border=\"1\" class=\"dataframe\">\n",
       "  <thead>\n",
       "    <tr style=\"text-align: right;\">\n",
       "      <th></th>\n",
       "      <th>churn_yes</th>\n",
       "      <th>p_overage1_3</th>\n",
       "    </tr>\n",
       "  </thead>\n",
       "  <tbody>\n",
       "    <tr>\n",
       "      <th>count</th>\n",
       "      <td>3415.0000</td>\n",
       "      <td>3415.0000</td>\n",
       "    </tr>\n",
       "    <tr>\n",
       "      <th>mean</th>\n",
       "      <td>0.0176</td>\n",
       "      <td>0.0112</td>\n",
       "    </tr>\n",
       "  </tbody>\n",
       "</table>\n",
       "</div>"
      ],
      "text/plain": [
       "       churn_yes  p_overage1_3\n",
       "count  3415.0000     3415.0000\n",
       "mean      0.0176        0.0112"
      ]
     },
     "execution_count": 40,
     "metadata": {},
     "output_type": "execute_result"
    }
   ],
   "source": [
    "#plan: for customers that don't cross 100 mins in overage, their overage is free\n",
    "s_mobile_2[\"p_overage1_3\"] = lr.predict(s_mobile_2[(s_mobile_2.ovs > 0) &(s_mobile_2.ovs <0.10)].assign(overage = 0))\n",
    "\n",
    "s_mobile_2[(s_mobile_2.ovs > 0) &(s_mobile_2.ovs < 0.10)].loc[s_mobile_2.overage > 0, [\"churn_yes\", \"p_overage1_3\"]].agg(\n",
    "    [\"count\", \"mean\"]\n",
    ").round(4)"
   ]
  },
  {
   "cell_type": "code",
   "execution_count": 41,
   "metadata": {},
   "outputs": [],
   "source": [
    "cost_3 = (s_mobile_2[(s_mobile_2.ovs >0) & (s_mobile_2.ovs <0.10)]['overage'].sum() * 0.1)/3415\n",
    "og_sub_rev_3 = s_mobile_2[(s_mobile_2.ovs >0) & (s_mobile_2.ovs <0.10)].og_rev.mean()\n",
    "sub_rev_3 = og_sub_rev_3 - cost_3\n",
    "#cost_perc_3 = cost_3/sub_rev_3\n",
    "\n",
    "p2_b = (clv(og_sub_rev_3,0,0.1,60,0.0176)[-1:]['Month 60']) #before\n",
    "p2_a = (clv(sub_rev_3,0,0.1,60,0.0112)[-1:]['Month 60']) #after"
   ]
  },
  {
   "cell_type": "code",
   "execution_count": 42,
   "metadata": {},
   "outputs": [
    {
     "data": {
      "text/plain": [
       "Offer CLV\n",
       "CLV    115.001\n",
       "Name: Month 60, dtype: float64"
      ]
     },
     "execution_count": 42,
     "metadata": {},
     "output_type": "execute_result"
    }
   ],
   "source": [
    "p2_a - p2_b"
   ]
  },
  {
   "cell_type": "markdown",
   "metadata": {},
   "source": [
    "### PLAN 3"
   ]
  },
  {
   "cell_type": "code",
   "execution_count": 43,
   "metadata": {},
   "outputs": [],
   "source": [
    "s_mobile_eqpd = s_mobile.copy()\n",
    "\n",
    "cust_list = s_mobile_eqpd.customer[(s_mobile_eqpd.representative == 1)  & (s_mobile_eqpd.eqpdays > 365)]\n",
    "resp_list = cust_list.sample(frac=0.1, random_state = 1234)\n",
    "resp_list = resp_list.to_list()"
   ]
  },
  {
   "cell_type": "code",
   "execution_count": 44,
   "metadata": {},
   "outputs": [],
   "source": [
    "s_mobile_eqpd = s_mobile_eqpd.reset_index(drop = True)\n",
    "\n",
    "for i in range(s_mobile_eqpd.shape[0]):\n",
    "    if s_mobile_eqpd['customer'][i] in resp_list:\n",
    "        s_mobile_eqpd['eqpdays'][i] = 0\n",
    "        "
   ]
  },
  {
   "cell_type": "markdown",
   "metadata": {},
   "source": [
    "Look at only among people that we actually mailed, so those in `cust_list`. Only looking at those (10%) that actually responded"
   ]
  },
  {
   "cell_type": "code",
   "execution_count": 45,
   "metadata": {},
   "outputs": [
    {
     "data": {
      "text/html": [
       "<div>\n",
       "<style scoped>\n",
       "    .dataframe tbody tr th:only-of-type {\n",
       "        vertical-align: middle;\n",
       "    }\n",
       "\n",
       "    .dataframe tbody tr th {\n",
       "        vertical-align: top;\n",
       "    }\n",
       "\n",
       "    .dataframe thead th {\n",
       "        text-align: right;\n",
       "    }\n",
       "</style>\n",
       "<table border=\"1\" class=\"dataframe\">\n",
       "  <thead>\n",
       "    <tr style=\"text-align: right;\">\n",
       "      <th></th>\n",
       "      <th>churn_yes</th>\n",
       "      <th>p_eqp</th>\n",
       "    </tr>\n",
       "  </thead>\n",
       "  <tbody>\n",
       "    <tr>\n",
       "      <th>count</th>\n",
       "      <td>2188.0000</td>\n",
       "      <td>2188.0000</td>\n",
       "    </tr>\n",
       "    <tr>\n",
       "      <th>mean</th>\n",
       "      <td>0.0192</td>\n",
       "      <td>0.0096</td>\n",
       "    </tr>\n",
       "  </tbody>\n",
       "</table>\n",
       "</div>"
      ],
      "text/plain": [
       "       churn_yes      p_eqp\n",
       "count  2188.0000  2188.0000\n",
       "mean      0.0192     0.0096"
      ]
     },
     "execution_count": 45,
     "metadata": {},
     "output_type": "execute_result"
    }
   ],
   "source": [
    "s_mobile_eqp = s_mobile_eqpd.query(\"representative == 1\").copy()\n",
    "s_mobile_eqp[\"p_eqp\"] = lr.predict(s_mobile_eqp)\n",
    "\n",
    "s_mobile_eqp[s_mobile_eqp['customer'].isin(resp_list)][[\"churn_yes\", \"p_eqp\"]].agg(\n",
    "    [\"count\", \"mean\"]\n",
    ").round(4)"
   ]
  },
  {
   "cell_type": "code",
   "execution_count": 46,
   "metadata": {},
   "outputs": [],
   "source": [
    "eqp_rev = s_mobile_eqp[s_mobile_eqp['customer'].isin(resp_list)].revenue.mean()\n",
    "#eqp_rev"
   ]
  },
  {
   "cell_type": "code",
   "execution_count": 47,
   "metadata": {},
   "outputs": [],
   "source": [
    "# eqp days\n",
    "p3_b = (clv(eqp_rev,0,0.1,60,0.0192)[-1:]['Month 60']) #before #before\n",
    "p3_a = (clv(eqp_rev,0,0.1,60,0.0096)[-1:]['Month 60']) #after"
   ]
  },
  {
   "cell_type": "code",
   "execution_count": 48,
   "metadata": {},
   "outputs": [
    {
     "data": {
      "text/plain": [
       "Offer CLV\n",
       "CLV    352.761\n",
       "Name: Month 60, dtype: float64"
      ]
     },
     "execution_count": 48,
     "metadata": {},
     "output_type": "execute_result"
    }
   ],
   "source": [
    "p3_a - p3_b"
   ]
  },
  {
   "cell_type": "code",
   "execution_count": null,
   "metadata": {},
   "outputs": [],
   "source": []
  }
 ],
 "metadata": {
  "kernelspec": {
   "display_name": "Python 3",
   "language": "python",
   "name": "python3"
  },
  "language_info": {
   "codemirror_mode": {
    "name": "ipython",
    "version": 3
   },
   "file_extension": ".py",
   "mimetype": "text/x-python",
   "name": "python",
   "nbconvert_exporter": "python",
   "pygments_lexer": "ipython3",
   "version": "3.8.5"
  }
 },
 "nbformat": 4,
 "nbformat_minor": 4
}
